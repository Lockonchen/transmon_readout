{
 "cells": [
  {
   "cell_type": "code",
   "execution_count": 1,
   "id": "6316cc66-9ef0-4aec-ae6a-20a2c3269df5",
   "metadata": {},
   "outputs": [],
   "source": [
    "import numpy as np\n",
    "import matplotlib.pyplot as plt\n",
    "from tqdm import tqdm\n",
    "from qutip import *"
   ]
  },
  {
   "cell_type": "raw",
   "id": "769c947d-7c7b-4881-849f-2abf23ff8cc3",
   "metadata": {},
   "source": [
    "sx = np.array([[0,1],[1,0]])\n",
    "sz = np.array([[1,0],[0,-1]])\n",
    "psi0 = np.array([1,1])/np.sqrt(2)\n",
    "H = sz # hamiltonian\n",
    "Ls = [0.5*sz,0.2*sx] # lindblad operators\n",
    "Heff = H - 1j/2 * sum([L.T.conjugate()@L for L in Ls]) # effective Hamiltonian"
   ]
  },
  {
   "cell_type": "code",
   "execution_count": 15,
   "id": "54887fe1-a2e6-40db-b1ea-c1cbd25b3f45",
   "metadata": {},
   "outputs": [],
   "source": [
    "Nr = 10\n",
    "a = destroy(Nr)\n",
    "\n",
    "sz = (a.dag()*a).full()\n",
    "sx = a.full()\n",
    "psi0 = coherent(Nr, 0.2).full().reshape(10,)\n",
    "H = 6*sz\n",
    "Ls = [np.sqrt(2)*sx, 0.05*sz]\n",
    "\n",
    "Heff = H - 1j/2 * sum([L.T.conjugate()@L for L in Ls]) # effective Hamiltonian"
   ]
  },
  {
   "cell_type": "code",
   "execution_count": 20,
   "id": "45faa80a-48ca-4f65-84c4-bc1ca5e0027d",
   "metadata": {},
   "outputs": [
    {
     "data": {
      "text/plain": [
       "(0.04000000000000003+0j)"
      ]
     },
     "execution_count": 20,
     "metadata": {},
     "output_type": "execute_result"
    }
   ],
   "source": [
    "psi0@sz@psi0"
   ]
  },
  {
   "cell_type": "code",
   "execution_count": 27,
   "id": "e62828f5-eb4b-4c40-bfa6-9eeb1cf5892b",
   "metadata": {},
   "outputs": [
    {
     "data": {
      "text/plain": [
       "(0.0016000000000000018+0j)"
      ]
     },
     "execution_count": 27,
     "metadata": {},
     "output_type": "execute_result"
    }
   ],
   "source": [
    "psi1=sx@psi0\n",
    "psi1@sz@psi1"
   ]
  },
  {
   "cell_type": "code",
   "execution_count": 16,
   "id": "58962e90-855e-470c-9c9a-14b8370fd1b1",
   "metadata": {},
   "outputs": [],
   "source": [
    "b00 = np.array([1, 0, 0, 0, 0, 0, 0, 0, 0, 0])"
   ]
  },
  {
   "cell_type": "raw",
   "id": "84118d62-a749-4057-9715-3c9c9a380422",
   "metadata": {},
   "source": [
    "sz = np.array([[1,0],[0,-1]])\n",
    "psi0 = np.array([1,1])/np.sqrt(2)\n",
    "H = sz # hamiltonian\n",
    "Ls = [0.5*sz,0.2*sx] # lindblad operators\n",
    "Heff = H - 1j/2 * sum([L.T.conjugate()@L for L in Ls]) # effective Hamiltonian"
   ]
  },
  {
   "cell_type": "code",
   "execution_count": 54,
   "id": "1daa6a36-69bf-4a26-8b2e-5f456f1eaf74",
   "metadata": {},
   "outputs": [
    {
     "data": {
      "text/plain": [
       "0.0019744962591969747"
      ]
     },
     "execution_count": 54,
     "metadata": {},
     "output_type": "execute_result"
    }
   ],
   "source": [
    "dt = 0.2/np.linalg.norm(H, ord ='fro') # timestep\n",
    "m = 1000 # number of steps\n",
    "tf = dt*m # final time\n",
    "times = np.linspace(0,tf,m)\n",
    "dt"
   ]
  },
  {
   "cell_type": "code",
   "execution_count": 55,
   "id": "eb8b8b0f-eb06-4b73-a01b-034509b314a9",
   "metadata": {},
   "outputs": [
    {
     "data": {
      "image/png": "[encoded data removed]",
      "text/plain": [
       "<Figure size 432x288 with 1 Axes>"
      ]
     },
     "metadata": {
      "needs_background": "light"
     },
     "output_type": "display_data"
    }
   ],
   "source": [
    "sample = 150 # number of samples\n",
    "\n",
    "mean = np.zeros(m, dtype = complex) #array for the results\n",
    "n = 0\n",
    "for count in range(sample):\n",
    "    t = 0\n",
    "    waves = [psi0]\n",
    "    for t in times[1:]:\n",
    "        # generate a random number in (0,1]\n",
    "        u = np.random.random()\n",
    "        # array of jump probabilities\n",
    "        dps = [dt * (waves[-1].T.conjugate() @ (L.T.conjugate()@L)@waves[-1]) for L in Ls]\n",
    "        # renormalisation factor 1-dP\n",
    "        dP = np.sum(dps)\n",
    "        # test\n",
    "        if dP <= u:\n",
    "            #temp = (np.eye(len(psi0))-1j*Heff.T.conjugate()*dt)@(waves[-1])\n",
    "            temp = (np.eye(len(psi0))-1j*Heff*dt)@(waves[-1])\n",
    "        else:\n",
    "            n+=1\n",
    "            # new random number\n",
    "            u = np.random.random()\n",
    "            Q = np.cumsum(dps)/dP\n",
    "            # pick the jump that has occurred\n",
    "            k = np.searchsorted(Q, u, side = 'left')\n",
    "            temp = Ls[k]@waves[-1]\n",
    "        waves.append(temp/np.linalg.norm(temp))\n",
    "    mean += np.array([wave.T.conjugate()@sz@wave for wave in waves])\n",
    "\n",
    "mean = np.array(mean)/sample\n",
    "\n",
    "fig, ax = plt.subplots()\n",
    "ax.plot(times, np.real(mean), 'b-', alpha = 0.5, label = 'w/ mcwf');\n",
    "ax.legend();"
   ]
  },
  {
   "cell_type": "code",
   "execution_count": 50,
   "id": "f35f53eb-7010-4694-9bb1-d111e8f7a945",
   "metadata": {},
   "outputs": [
    {
     "data": {
      "text/plain": [
       "9.026666666666667"
      ]
     },
     "execution_count": 50,
     "metadata": {},
     "output_type": "execute_result"
    }
   ],
   "source": [
    "n/sample"
   ]
  },
  {
   "cell_type": "code",
   "execution_count": 56,
   "id": "921b8a65-1bd8-4974-a6ae-b2b9a19a1018",
   "metadata": {},
   "outputs": [],
   "source": [
    "def RK4_evo(dt, Heff, size):\n",
    "    '''RK4'''\n",
    "    k1 = -1j*Heff\n",
    "    k2 = -1j*Heff*(1+k1/2*dt)\n",
    "    k3 = -1j*Heff*(1+k2/2*dt)\n",
    "    k4 = -1j*Heff*(1+k3*dt)\n",
    "    return np.eye(size)+dt/6*(k1+2*k2+2*k3+k4)\n",
    "\n",
    "def my_mcsolve(psi0, H, times, c_ops=[], e_ops=[], args={}, ntraj=150):\n",
    "    '''Calculate the stochastic dyanmics by MCWF method, using the inaccurate Euler method'''\n",
    "    \n",
    "    mean = np.zeros(m, dtype = complex) #array for the results\n",
    "    \n",
    "    for count in tqdm(range(ntraj)):\n",
    "        t = 0\n",
    "        waves = [psi0]\n",
    "        for t in times[1:]:\n",
    "            # generate a random number in (0,1]\n",
    "            u = np.random.random()\n",
    "            # array of jump probabilities\n",
    "            dps = [np.real(dt * (waves[-1].T.conjugate()@(L.T.conjugate()@L)@waves[-1])) for L in Ls]\n",
    "            # renormalisation factor 1-dP\n",
    "            dP = np.sum(dps)\n",
    "\n",
    "            # test\n",
    "            if dP <= u:\n",
    "                temp = RK4_evo(dt, H, len(psi0))@(waves[-1])\n",
    "                #temp = (np.eye(len(psi0))-1j*H*dt)@(waves[-1])\n",
    "                #temp = sp.linalg.expm(-1j*H*dt)@(waves[-1])\n",
    "            else:\n",
    "                # new random number\n",
    "                u = np.random.random()\n",
    "                Q = np.cumsum(dps)/dP\n",
    "                # pick the jump that has occurred\n",
    "                k = np.searchsorted(Q, u, side = 'left')\n",
    "                temp = Ls[k]@waves[-1]\n",
    "            waves.append(temp/np.linalg.norm(temp))\n",
    "        mean += np.array([(wave.T.conjugate()@sz@wave) for wave in waves])\n",
    "\n",
    "    mean = np.array(mean)/ntraj\n",
    "    return mean"
   ]
  },
  {
   "cell_type": "code",
   "execution_count": 57,
   "id": "6054b207-6d69-48f3-8ac5-c432a45d50de",
   "metadata": {},
   "outputs": [
    {
     "name": "stderr",
     "output_type": "stream",
     "text": [
      "100%|████████████████████████████████████████████████████████████████████████████████| 150/150 [00:43<00:00,  3.46it/s]\n"
     ]
    },
    {
     "data": {
      "image/png": "[encoded data removed]",
      "text/plain": [
       "<Figure size 432x288 with 1 Axes>"
      ]
     },
     "metadata": {
      "needs_background": "light"
     },
     "output_type": "display_data"
    }
   ],
   "source": [
    "mean = my_mcsolve(psi0, Heff, times)\n",
    "fig, ax = plt.subplots()\n",
    "ax.plot(times, np.real(mean), 'b-', alpha = 0.5, label = 'w/ mcwf');\n",
    "ax.legend();"
   ]
  },
  {
   "cell_type": "markdown",
   "id": "db2ea669-fd3b-48b5-b3ad-5f764ea8aa3a",
   "metadata": {},
   "source": [
    "## QuTip Benchmaraking"
   ]
  },
  {
   "cell_type": "code",
   "execution_count": 14,
   "id": "4539d4aa-0372-4206-be41-b619203a7dd3",
   "metadata": {},
   "outputs": [
    {
     "name": "stdout",
     "output_type": "stream",
     "text": [
      "10.0%. Run time:   0.01s. Est. time left: 00:00:00:00\n",
      "20.0%. Run time:   0.01s. Est. time left: 00:00:00:00\n",
      "30.0%. Run time:   0.02s. Est. time left: 00:00:00:00\n",
      "40.0%. Run time:   0.03s. Est. time left: 00:00:00:00\n",
      "50.0%. Run time:   0.03s. Est. time left: 00:00:00:00\n",
      "60.0%. Run time:   0.04s. Est. time left: 00:00:00:00\n",
      "70.0%. Run time:   0.05s. Est. time left: 00:00:00:00\n",
      "80.0%. Run time:   0.05s. Est. time left: 00:00:00:00\n",
      "90.0%. Run time:   0.06s. Est. time left: 00:00:00:00\n",
      "Total run time:   0.07s\n"
     ]
    },
    {
     "data": {
      "image/png": "[encoded data removed]",
      "text/plain": [
       "<Figure size 432x288 with 1 Axes>"
      ]
     },
     "metadata": {
      "needs_background": "light"
     },
     "output_type": "display_data"
    }
   ],
   "source": [
    "a = destroy(Nr)\n",
    "\n",
    "sz = 6*(a.dag()*a)\n",
    "psi0 = coherent(Nr, 0.2)\n",
    "H0 = sz\n",
    "c_ops = [np.sqrt(2)*a, 0.05*sz]\n",
    "e_ops = [a.dag()*a]\n",
    "\n",
    "meResult = mesolve(H0, psi0, times, \n",
    "                    c_ops=c_ops, \n",
    "                    e_ops=e_ops, \n",
    "                    progress_bar=True,\n",
    "                    options=Options(rhs_with_state=True, store_states=True))#, atol=10e-12, rtol=1e-8))\n",
    "nc = meResult.expect[0]\n",
    "\n",
    "fig, ax = plt.subplots()\n",
    "ax.plot(times, nc, 'b-', alpha = 0.5, label = 'w/ mcwf');\n",
    "ax.legend();"
   ]
  },
  {
   "cell_type": "code",
   "execution_count": null,
   "id": "bdc074cc-b2b2-4b3f-99ef-21496398adb6",
   "metadata": {},
   "outputs": [],
   "source": []
  }
 ],
 "metadata": {
  "kernelspec": {
   "display_name": "Python 3 (ipykernel)",
   "language": "python",
   "name": "python3"
  },
  "language_info": {
   "codemirror_mode": {
    "name": "ipython",
    "version": 3
   },
   "file_extension": ".py",
   "mimetype": "text/x-python",
   "name": "python",
   "nbconvert_exporter": "python",
   "pygments_lexer": "ipython3",
   "version": "3.9.5"
  }
 },
 "nbformat": 4,
 "nbformat_minor": 5
}
